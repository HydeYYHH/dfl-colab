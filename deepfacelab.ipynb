{
  "cells": [
    {
      "cell_type": "code",
      "execution_count": 1,
      "metadata": {
        "colab": {
          "base_uri": "https://localhost:8080/"
        },
        "id": "f_Rl4GXs2ijI",
        "outputId": "792bbd24-0784-4070-90ec-9a05810d8330"
      },
      "outputs": [
        {
          "output_type": "stream",
          "name": "stdout",
          "text": [
            "Mounted at /content/drive\n"
          ]
        }
      ],
      "source": [
        "#@title connect to drive\n",
        "\n",
        "from google.colab import drive\n",
        "drive.mount('/content/drive')"
      ]
    },
    {
      "cell_type": "code",
      "execution_count": null,
      "metadata": {
        "id": "CUbpLiQ326sy"
      },
      "outputs": [],
      "source": [
        "#@title install\n",
        "\n",
        "!git clone https://github.com/HydeYYHH/dfl-colab /content/D\n",
        "\n",
        "!pip install -q condacolab\n",
        "\n",
        "import condacolab\n",
        "condacolab.install()\n",
        "!conda create -n dfl python=3.6\n",
        "\n",
        "%cd /content/D\n",
        "!source activate dfl;pip install -r requirements-colab.txt;pip list\n",
        "!conda install cudatoolkit\n",
        "!sudo ln -s /usr/local/cuda-12/targets/x86_64-linux/lib/libcusolver.so.11 /usr/local/cuda-12/targets/x86_64-linux/lib/libcusolver.so.10\n",
        "# download pretrained model and faces\n",
        "!mkdir /content/pretrained_model\n",
        "!mkdir /content/pretrained_faces\n",
        "!wget -P /content/pretrained_faces https://github.com/HydeYYHH/dfl-colab/releases/download/pretrain_faces/faceset.pak\n",
        "!wget -P /content/pretrained_model https://github.com/HydeYYHH/dfl-colab/releases/download/untagged-c5785d342c687fee8b3c/decoder_dst.npy\n",
        "!wget -P /content/pretrained_model https://github.com/HydeYYHH/dfl-colab/releases/download/untagged-c5785d342c687fee8b3c/decoder_src.npy\n",
        "!wget -P /content/pretrained_model https://github.com/HydeYYHH/dfl-colab/releases/download/untagged-c5785d342c687fee8b3c/encoder.npy"
      ]
    },
    {
      "cell_type": "code",
      "execution_count": 12,
      "metadata": {
        "id": "zTc5JKKt9maW"
      },
      "outputs": [],
      "source": [
        "#@title config\n",
        "name = \"haoyunlianlian\" #@param {\"type\":\"string\"}\n",
        "model = \"Quick96\" #@param [\"SAEHD\",\"Quick96\"]\n",
        "src = \"\" # @param {\"type\":\"string\"}\n",
        "des = \"/content/drive/MyDrive/shared/face_material/target/2.mp4\" # @param {\"type\":\"string\"}\n",
        "work_dir = \"/content/drive/MyDrive/shared/DFLab\" # @param {\"type\":\"string\"}\n",
        "import os\n",
        "if not os.path.exists(work_dir):\n",
        "  if input(\"work_dir doesn't exist, do you want to create it?(y/n)\").lower() == 'y':\n",
        "    raise FileNotFoundError\n",
        "work_dir = f\"{work_dir}/{name}\"\n",
        "src_dir = f\"{work_dir}/src\"\n",
        "des_dir = f\"{work_dir}/des\"\n",
        "model_dir = f\"{work_dir}/model\"\n",
        "!mkdir -p $src_dir\n",
        "!mkdir -p $des_dir\n",
        "!mkdir -p $model_dir\n"
      ]
    },
    {
      "cell_type": "code",
      "execution_count": null,
      "metadata": {
        "id": "ITORwEDtGiQe"
      },
      "outputs": [],
      "source": [
        "#@title extract face\n",
        "%cd /content/D\n",
        "\n",
        "target = \"des\" #@param [\"src\",\"des\"]\n",
        "if (target == \"src\"):\n",
        "  input_file = src\n",
        "  input_dir = src_dir\n",
        "else:\n",
        "  input_file = des\n",
        "  input_dir = des_dir\n",
        "\n",
        "cmd = f\"main.py videoed extract-video --input-file {input_file} --output-dir {input_dir}\"\n",
        "!source activate dfl;python $cmd\n",
        "cmd = f\"\"\"\n",
        "source activate dfl\n",
        "export LD_LIBRARY_PATH=$LD_LIBRARY_PATH:/usr/local/cuda-12/targets/x86_64-linux/lib\n",
        "main.py extract --input-dir {input_dir} --output-dir {input_dir}/aligned --detector s3fd\n",
        "\"\"\"\n",
        "!$cmd\n",
        "cmd = f\"main.py util --input-dir {input_dir}/aligned  --pack-faceset\"\n",
        "!source activate dfl;python $cmd\n"
      ]
    },
    {
      "cell_type": "code",
      "execution_count": null,
      "metadata": {
        "cellView": "form",
        "id": "gWp6VzIzPLgv"
      },
      "outputs": [],
      "source": [
        "#@title import from .zip\n",
        "src = \"/content/drive/MyDrive/DFLab/yuanzhang/src/00004.zip\" #@param {\"type\":\"string\"}\n",
        "des = \"/content/drive/MyDrive/DFLab/yuanzhang/des/00010.zip\" #@param {\"type\":\"string\"}\n",
        "\n",
        "if src:\n",
        "  !unzip $src -d $src_dir\n",
        "if des:\n",
        "  !unzip $des -d $des_dir"
      ]
    },
    {
      "cell_type": "code",
      "execution_count": null,
      "metadata": {
        "id": "2rIf73Tv4j_c",
        "colab": {
          "base_uri": "https://localhost:8080/"
        },
        "outputId": "73793c4d-ec18-42a3-b124-322510d102a6"
      },
      "outputs": [
        {
          "output_type": "stream",
          "name": "stdout",
          "text": [
            "/content/D\n",
            "\u001b[0mRunning trainer.\n",
            "\n",
            "Choose one of saved models, or enter a name to create a new model.\n",
            "[r] : rename\n",
            "[d] : delete\n",
            "\n",
            "[0] : haoyunlianlian - latest\n",
            " : 0\n",
            "0\n",
            "Loading haoyunlianlian_Quick96 model...\n",
            "\n",
            "Choose one or several GPU idxs (separated by comma).\n",
            "\n",
            "[CPU] : CPU\n",
            "  [0] : Tesla T4\n",
            "\n",
            "[0] Which GPU indexes to choose? : \n",
            "0\n",
            "\n",
            "\n",
            "Initializing models: 100% 5/5 [00:02<00:00,  2.46it/s]\n",
            "Loaded 1055 packed faces from /content/drive/MyDrive/shared/DFLab/haoyunlianlian/src/aligned\n",
            "Loaded 805 packed faces from /content/drive/MyDrive/shared/DFLab/haoyunlianlian/des/aligned\n",
            "================ Model Summary ================\n",
            "==                                           ==\n",
            "==        Model name: haoyunlianlian_Quick96 ==\n",
            "==                                           ==\n",
            "== Current iteration: 57071                  ==\n",
            "==                                           ==\n",
            "==-------------- Model Options --------------==\n",
            "==                                           ==\n",
            "==        batch_size: 4                      ==\n",
            "==                                           ==\n",
            "==--------------- Running On ----------------==\n",
            "==                                           ==\n",
            "==      Device index: 0                      ==\n",
            "==              Name: Tesla T4               ==\n",
            "==              VRAM: 13.77GB                ==\n",
            "==                                           ==\n",
            "===============================================\n",
            "Starting. Press \"Enter\" to stop training and save model.\n",
            "iteration:  58200\n",
            "iteration:  58500\n",
            "iteration:  58800\n",
            "iteration:  59100\n",
            "iteration:  59300\n",
            "iteration:  59400\n",
            "iteration:  59700\n",
            "iteration:  60300\n",
            "iteration:  60600\n",
            "iteration:  61200\n",
            "iteration:  61500\n",
            "iteration:  61900\n",
            "iteration:  62300\n",
            "iteration:  62400\n",
            "iteration:  64200\n"
          ]
        }
      ],
      "source": [
        "#@title train\n",
        "%cd /content/D\n",
        "\n",
        "cmd = f\"\"\"\n",
        "source activate dfl\n",
        "export LD_LIBRARY_PATH=$LD_LIBRARY_PATH:/usr/local/cuda-12/targets/x86_64-linux/lib\n",
        "python main.py train --training-data-src-dir {src_dir}/aligned --training-data-dst-dir {des_dir}/aligned --model-dir {model_dir} --model {model} --pretraining-data-dir /content/pretrained_faces\"\"\"\n",
        "if model == \"Quick96\":\n",
        "  cmd += \" --pretrained-model-dir /content/pretrained_model\"\n",
        "!$cmd"
      ]
    },
    {
      "cell_type": "code",
      "execution_count": null,
      "metadata": {
        "cellView": "form",
        "id": "dCgMMJEk8kTF"
      },
      "outputs": [],
      "source": [
        "# @title convert to output\n",
        "%cd /content/D\n",
        "\n",
        "cmd = f\"main.py merge --output-mask-dir {des_dir}/merged_mask --input-dir {des_dir} --output-dir {des_dir}/merged --aligned-dir {des_dir}/aligned --model-dir {model_dir} --model {model}\"\n",
        "!source activate dfl;python $cmd\n",
        "\n",
        "cmd = f\"main.py videoed video-from-sequence --input-dir {des_dir}/merged --output-file {work_dir}/result.mp4 --reference-file {des} --include-audio\"\n",
        "!source activate dfl;python $cmd"
      ]
    }
  ],
  "metadata": {
    "colab": {
      "provenance": [],
      "gpuType": "T4"
    },
    "kernelspec": {
      "display_name": "Python 3",
      "name": "python3"
    },
    "language_info": {
      "name": "python"
    },
    "accelerator": "GPU"
  },
  "nbformat": 4,
  "nbformat_minor": 0
}